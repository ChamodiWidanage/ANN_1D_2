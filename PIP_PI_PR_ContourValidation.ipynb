{
 "cells": [
  {
   "cell_type": "markdown",
   "id": "bce06074-b5c2-4913-890f-cb599b203ed2",
   "metadata": {},
   "source": [
    "## Import libraries"
   ]
  },
  {
   "cell_type": "code",
   "execution_count": 1,
   "outputs": [],
   "source": [
    "from pathlib import Path\n",
    "import pandas as pd\n",
    "import math\n",
    "import openpyxl"
   ],
   "metadata": {
    "collapsed": false,
    "ExecuteTime": {
     "end_time": "2024-04-28T07:42:36.804082600Z",
     "start_time": "2024-04-28T07:42:32.700342200Z"
    }
   },
   "id": "34feb292-f5a4-45b9-aa07-22571998d2e1"
  },
  {
   "cell_type": "markdown",
   "source": [
    "# Create peak pressure file - Attempt 1 (without peak index)"
   ],
   "metadata": {
    "collapsed": false
   },
   "id": "22d05affddf4eb66"
  },
  {
   "cell_type": "markdown",
   "id": "446d2850-b45e-4d5f-86dd-fa14200e168b",
   "metadata": {
    "tags": []
   },
   "source": [
    "## Access input folders"
   ]
  },
  {
   "cell_type": "markdown",
   "source": [],
   "metadata": {
    "collapsed": false
   },
   "id": "98e104c479fb347c"
  },
  {
   "cell_type": "code",
   "execution_count": 6,
   "id": "444c2bb8-1d9e-4aca-baec-9d85bd985ece",
   "metadata": {
    "ExecuteTime": {
     "end_time": "2024-04-28T08:12:29.072941400Z",
     "start_time": "2024-04-28T08:12:29.039821900Z"
    }
   },
   "outputs": [
    {
     "name": "stdout",
     "output_type": "stream",
     "text": [
      "1 G:\\Chamodi\\LSDYNA3D\\Reflected_pressure\\Contour_Validation\\TNT_5.7m_15.2kg\n",
      "2 [WindowsPath('G:/Chamodi/LSDYNA3D/Reflected_pressure/Contour_Validation/TNT_5.7m_15.2kg/Tracers')]\n"
     ]
    }
   ],
   "source": [
    "#Access input folder\n",
    "input_dir1 = Path('G:\\Chamodi\\LSDYNA3D\\Reflected_pressure\\Contour_Validation\\TNT_5.7m_15.2kg')\n",
    "print (\"1\",input_dir1)\n",
    "\n",
    "#Access folders inside input folder\n",
    "input_dir2 =  [folder for folder in input_dir1.iterdir() if folder.is_dir()]\n",
    "print (\"2\",input_dir2)"
   ]
  },
  {
   "cell_type": "markdown",
   "id": "6be55513-d92d-4069-b7c3-1291dd6efadd",
   "metadata": {},
   "source": [
    "## Create output files 2"
   ]
  },
  {
   "cell_type": "code",
   "execution_count": 8,
   "id": "28ac30c9-9a38-4e3e-bafb-0e9e680d176c",
   "metadata": {
    "ExecuteTime": {
     "end_time": "2024-04-28T08:13:03.220580500Z",
     "start_time": "2024-04-28T08:13:03.063886500Z"
    }
   },
   "outputs": [
    {
     "name": "stdout",
     "output_type": "stream",
     "text": [
      "Empty DataFrame\n",
      "Columns: [Standoff_distance, Peak_Pressure]\n",
      "Index: []\n",
      "5.7\n",
      "6.15\n",
      "6.2\n",
      "6.25\n",
      "6.300000000000001\n",
      "6.3500000000000005\n",
      "6.4\n",
      "6.45\n",
      "6.5\n",
      "6.550000000000001\n",
      "6.6000000000000005\n",
      "5.75\n",
      "6.65\n",
      "6.7\n",
      "6.75\n",
      "6.800000000000001\n",
      "6.8500000000000005\n",
      "6.9\n",
      "6.95\n",
      "7.0\n",
      "7.050000000000001\n",
      "7.1000000000000005\n",
      "5.800000000000001\n",
      "7.15\n",
      "7.2\n",
      "7.25\n",
      "7.300000000000001\n",
      "7.3500000000000005\n",
      "7.4\n",
      "7.45\n",
      "7.5\n",
      "7.550000000000001\n",
      "7.6000000000000005\n",
      "5.8500000000000005\n",
      "7.65\n",
      "7.700000000000001\n",
      "7.75\n",
      "7.800000000000001\n",
      "7.8500000000000005\n",
      "7.9\n",
      "7.950000000000001\n",
      "8.0\n",
      "8.05\n",
      "8.100000000000001\n",
      "5.9\n",
      "8.15\n",
      "8.200000000000001\n",
      "8.25\n",
      "8.3\n",
      "8.350000000000001\n",
      "8.4\n",
      "8.450000000000001\n",
      "8.5\n",
      "8.55\n",
      "8.600000000000001\n",
      "5.95\n",
      "8.65\n",
      "8.700000000000001\n",
      "8.75\n",
      "8.8\n",
      "8.850000000000001\n",
      "6.0\n",
      "6.050000000000001\n",
      "6.1000000000000005\n",
      "    Standoff_distance  Peak_Pressure\n",
      "0                5.70        517.633\n",
      "1                6.15        476.282\n",
      "2                6.20        474.772\n",
      "3                6.25        472.143\n",
      "4                6.30        467.469\n",
      "..                ...            ...\n",
      "59               8.80        182.154\n",
      "60               8.85        175.966\n",
      "61               6.00        481.294\n",
      "62               6.05        474.672\n",
      "63               6.10        484.231\n",
      "\n",
      "[64 rows x 2 columns]\n"
     ]
    }
   ],
   "source": [
    "df = pd.DataFrame(columns = ['Standoff_distance', 'Peak_Pressure'])\n",
    "print (df)\n",
    "\n",
    "# Access each folder inside input folder\n",
    "for folder in input_dir2:\n",
    "    \n",
    "    # Make a list of data file names\n",
    "    files = list(folder.rglob(\"*\"))\n",
    "        \n",
    "    # Access each file \n",
    "    for file in files:\n",
    "        stand_dis = 5.65\n",
    "        #tracer = int(file.name.split(\"m.\")[1])\n",
    "        stand_dis = stand_dis + (0.05*int(file.stem))\n",
    "        print (stand_dis)\n",
    "            \n",
    "        # Create a dataframe out of data files and use delimiters\n",
    "        df1 = pd.read_csv(file,\n",
    "                          delimiter=\"\\s+\",\n",
    "                          skiprows = 7,\n",
    "                          nrows= 1,\n",
    "                          engine = 'python',\n",
    "                          header = None)\n",
    "            \n",
    "        # append rows to an empty DataFrame\n",
    "        new_row = {'Standoff_distance' : [stand_dis], 'Peak_Pressure' : [df1.iloc[0,2]/1000]}\n",
    "        new_row_data = pd.DataFrame(new_row)\n",
    "        df = pd.concat([df, new_row_data], ignore_index = True)\n",
    "print (df)     "
   ]
  },
  {
   "cell_type": "markdown",
   "source": [
    "## Create peak pressure excel file"
   ],
   "metadata": {
    "collapsed": false
   },
   "id": "4f5511731d68c276"
  },
  {
   "cell_type": "code",
   "execution_count": 9,
   "id": "a0eae7a7-e2cc-4972-afd4-ca00de2d4c65",
   "metadata": {
    "ExecuteTime": {
     "end_time": "2024-04-28T08:14:17.533543600Z",
     "start_time": "2024-04-28T08:14:17.486353900Z"
    }
   },
   "outputs": [],
   "source": [
    "with pd.ExcelWriter('PRP_ContourVal.xlsx', engine = \"openpyxl\", mode='a', if_sheet_exists='replace') as writer:  \n",
    "    df.to_excel(writer, sheet_name = \"Sheet1\", index = False, header = True)"
   ]
  }
 ],
 "metadata": {
  "kernelspec": {
   "display_name": "Python 3 (ipykernel)",
   "language": "python",
   "name": "python3"
  },
  "language_info": {
   "codemirror_mode": {
    "name": "ipython",
    "version": 3
   },
   "file_extension": ".py",
   "mimetype": "text/x-python",
   "name": "python",
   "nbconvert_exporter": "python",
   "pygments_lexer": "ipython3",
   "version": "3.9.7"
  }
 },
 "nbformat": 4,
 "nbformat_minor": 5
}
