{
 "cells": [
  {
   "cell_type": "markdown",
   "id": "bce06074-b5c2-4913-890f-cb599b203ed2",
   "metadata": {},
   "source": [
    "## Import libraries"
   ]
  },
  {
   "cell_type": "code",
   "execution_count": 1,
   "outputs": [],
   "source": [
    "from pathlib import Path\n",
    "import pandas as pd\n",
    "import math\n",
    "import openpyxl"
   ],
   "metadata": {
    "collapsed": false,
    "ExecuteTime": {
     "end_time": "2024-03-26T00:18:23.866884400Z",
     "start_time": "2024-03-26T00:18:21.149662900Z"
    }
   },
   "id": "34feb292-f5a4-45b9-aa07-22571998d2e1"
  },
  {
   "cell_type": "markdown",
   "source": [
    "# Create peak pressure file - Attempt 1 (without peak index)"
   ],
   "metadata": {
    "collapsed": false
   },
   "id": "22d05affddf4eb66"
  },
  {
   "cell_type": "markdown",
   "id": "446d2850-b45e-4d5f-86dd-fa14200e168b",
   "metadata": {
    "tags": []
   },
   "source": [
    "## Access input folders"
   ]
  },
  {
   "cell_type": "markdown",
   "source": [],
   "metadata": {
    "collapsed": false
   },
   "id": "98e104c479fb347c"
  },
  {
   "cell_type": "code",
   "execution_count": 44,
   "id": "444c2bb8-1d9e-4aca-baec-9d85bd985ece",
   "metadata": {
    "ExecuteTime": {
     "end_time": "2024-03-26T01:33:18.267170400Z",
     "start_time": "2024-03-26T01:33:18.258401200Z"
    }
   },
   "outputs": [
    {
     "name": "stdout",
     "output_type": "stream",
     "text": [
      "2 [WindowsPath('G:/Chamodi/LSDYNA3D/RP_results_all/CompB/01.0m00.5kg'), WindowsPath('G:/Chamodi/LSDYNA3D/RP_results_all/CompB/01.0m03.5kg'), WindowsPath('G:/Chamodi/LSDYNA3D/RP_results_all/CompB/01.0m07.5kg'), WindowsPath('G:/Chamodi/LSDYNA3D/RP_results_all/CompB/01.0m11.5kg'), WindowsPath('G:/Chamodi/LSDYNA3D/RP_results_all/CompB/01.0m15.5kg'), WindowsPath('G:/Chamodi/LSDYNA3D/RP_results_all/CompB/01.0m19.5kg'), WindowsPath('G:/Chamodi/LSDYNA3D/RP_results_all/CompB/01.0m23.5kg'), WindowsPath('G:/Chamodi/LSDYNA3D/RP_results_all/CompB/01.0m25.0kg'), WindowsPath('G:/Chamodi/LSDYNA3D/RP_results_all/CompB/02.5m00.5kg'), WindowsPath('G:/Chamodi/LSDYNA3D/RP_results_all/CompB/02.5m03.5kg'), WindowsPath('G:/Chamodi/LSDYNA3D/RP_results_all/CompB/02.5m07.5kg'), WindowsPath('G:/Chamodi/LSDYNA3D/RP_results_all/CompB/02.5m11.5kg'), WindowsPath('G:/Chamodi/LSDYNA3D/RP_results_all/CompB/02.5m15.5kg'), WindowsPath('G:/Chamodi/LSDYNA3D/RP_results_all/CompB/02.5m19.5kg'), WindowsPath('G:/Chamodi/LSDYNA3D/RP_results_all/CompB/02.5m23.5kg'), WindowsPath('G:/Chamodi/LSDYNA3D/RP_results_all/CompB/02.5m25.0kg'), WindowsPath('G:/Chamodi/LSDYNA3D/RP_results_all/CompB/04.5m00.5kg'), WindowsPath('G:/Chamodi/LSDYNA3D/RP_results_all/CompB/04.5m03.5kg'), WindowsPath('G:/Chamodi/LSDYNA3D/RP_results_all/CompB/04.5m07.5kg'), WindowsPath('G:/Chamodi/LSDYNA3D/RP_results_all/CompB/04.5m11.5kg'), WindowsPath('G:/Chamodi/LSDYNA3D/RP_results_all/CompB/04.5m15.5kg'), WindowsPath('G:/Chamodi/LSDYNA3D/RP_results_all/CompB/04.5m19.5kg'), WindowsPath('G:/Chamodi/LSDYNA3D/RP_results_all/CompB/04.5m23.5kg'), WindowsPath('G:/Chamodi/LSDYNA3D/RP_results_all/CompB/04.5m25.0kg'), WindowsPath('G:/Chamodi/LSDYNA3D/RP_results_all/CompB/06.5m00.5kg'), WindowsPath('G:/Chamodi/LSDYNA3D/RP_results_all/CompB/06.5m03.5kg'), WindowsPath('G:/Chamodi/LSDYNA3D/RP_results_all/CompB/06.5m07.5kg'), WindowsPath('G:/Chamodi/LSDYNA3D/RP_results_all/CompB/06.5m11.5kg'), WindowsPath('G:/Chamodi/LSDYNA3D/RP_results_all/CompB/06.5m15.5kg'), WindowsPath('G:/Chamodi/LSDYNA3D/RP_results_all/CompB/06.5m19.5kg'), WindowsPath('G:/Chamodi/LSDYNA3D/RP_results_all/CompB/06.5m23.5kg'), WindowsPath('G:/Chamodi/LSDYNA3D/RP_results_all/CompB/06.5m25.0kg'), WindowsPath('G:/Chamodi/LSDYNA3D/RP_results_all/CompB/08.5m00.5kg'), WindowsPath('G:/Chamodi/LSDYNA3D/RP_results_all/CompB/08.5m03.5kg'), WindowsPath('G:/Chamodi/LSDYNA3D/RP_results_all/CompB/08.5m07.5kg'), WindowsPath('G:/Chamodi/LSDYNA3D/RP_results_all/CompB/08.5m11.5kg'), WindowsPath('G:/Chamodi/LSDYNA3D/RP_results_all/CompB/08.5m15.5kg'), WindowsPath('G:/Chamodi/LSDYNA3D/RP_results_all/CompB/08.5m19.5kg'), WindowsPath('G:/Chamodi/LSDYNA3D/RP_results_all/CompB/08.5m23.5kg'), WindowsPath('G:/Chamodi/LSDYNA3D/RP_results_all/CompB/08.5m25.0kg'), WindowsPath('G:/Chamodi/LSDYNA3D/RP_results_all/CompB/10.5m00.5kg'), WindowsPath('G:/Chamodi/LSDYNA3D/RP_results_all/CompB/10.5m03.5kg'), WindowsPath('G:/Chamodi/LSDYNA3D/RP_results_all/CompB/10.5m07.5kg'), WindowsPath('G:/Chamodi/LSDYNA3D/RP_results_all/CompB/10.5m11.5kg'), WindowsPath('G:/Chamodi/LSDYNA3D/RP_results_all/CompB/10.5m15.5kg'), WindowsPath('G:/Chamodi/LSDYNA3D/RP_results_all/CompB/10.5m19.5kg'), WindowsPath('G:/Chamodi/LSDYNA3D/RP_results_all/CompB/10.5m23.5kg'), WindowsPath('G:/Chamodi/LSDYNA3D/RP_results_all/CompB/10.5m25.0kg'), WindowsPath('G:/Chamodi/LSDYNA3D/RP_results_all/CompB/12.5m00.5kg'), WindowsPath('G:/Chamodi/LSDYNA3D/RP_results_all/CompB/12.5m03.5kg'), WindowsPath('G:/Chamodi/LSDYNA3D/RP_results_all/CompB/12.5m07.5kg'), WindowsPath('G:/Chamodi/LSDYNA3D/RP_results_all/CompB/12.5m11.5kg'), WindowsPath('G:/Chamodi/LSDYNA3D/RP_results_all/CompB/12.5m15.5kg'), WindowsPath('G:/Chamodi/LSDYNA3D/RP_results_all/CompB/12.5m19.5kg'), WindowsPath('G:/Chamodi/LSDYNA3D/RP_results_all/CompB/12.5m23.5kg'), WindowsPath('G:/Chamodi/LSDYNA3D/RP_results_all/CompB/12.5m25.0kg'), WindowsPath('G:/Chamodi/LSDYNA3D/RP_results_all/CompB/14.5m00.5kg'), WindowsPath('G:/Chamodi/LSDYNA3D/RP_results_all/CompB/14.5m03.5kg'), WindowsPath('G:/Chamodi/LSDYNA3D/RP_results_all/CompB/14.5m07.5kg'), WindowsPath('G:/Chamodi/LSDYNA3D/RP_results_all/CompB/14.5m11.5kg'), WindowsPath('G:/Chamodi/LSDYNA3D/RP_results_all/CompB/14.5m15.5kg'), WindowsPath('G:/Chamodi/LSDYNA3D/RP_results_all/CompB/14.5m19.5kg'), WindowsPath('G:/Chamodi/LSDYNA3D/RP_results_all/CompB/14.5m23.5kg'), WindowsPath('G:/Chamodi/LSDYNA3D/RP_results_all/CompB/14.5m25.0kg'), WindowsPath('G:/Chamodi/LSDYNA3D/RP_results_all/CompB/16.5m00.5kg'), WindowsPath('G:/Chamodi/LSDYNA3D/RP_results_all/CompB/16.5m03.5kg'), WindowsPath('G:/Chamodi/LSDYNA3D/RP_results_all/CompB/16.5m07.5kg'), WindowsPath('G:/Chamodi/LSDYNA3D/RP_results_all/CompB/16.5m11.5kg'), WindowsPath('G:/Chamodi/LSDYNA3D/RP_results_all/CompB/16.5m15.5kg'), WindowsPath('G:/Chamodi/LSDYNA3D/RP_results_all/CompB/16.5m19.5kg'), WindowsPath('G:/Chamodi/LSDYNA3D/RP_results_all/CompB/16.5m23.5kg'), WindowsPath('G:/Chamodi/LSDYNA3D/RP_results_all/CompB/16.5m25.0kg'), WindowsPath('G:/Chamodi/LSDYNA3D/RP_results_all/CompB/18.5m00.5kg'), WindowsPath('G:/Chamodi/LSDYNA3D/RP_results_all/CompB/18.5m03.5kg'), WindowsPath('G:/Chamodi/LSDYNA3D/RP_results_all/CompB/18.5m07.5kg'), WindowsPath('G:/Chamodi/LSDYNA3D/RP_results_all/CompB/18.5m11.5kg'), WindowsPath('G:/Chamodi/LSDYNA3D/RP_results_all/CompB/18.5m15.5kg'), WindowsPath('G:/Chamodi/LSDYNA3D/RP_results_all/CompB/18.5m19.5kg'), WindowsPath('G:/Chamodi/LSDYNA3D/RP_results_all/CompB/18.5m23.5kg'), WindowsPath('G:/Chamodi/LSDYNA3D/RP_results_all/CompB/18.5m25.0kg'), WindowsPath('G:/Chamodi/LSDYNA3D/RP_results_all/CompB/20.0m00.5kg'), WindowsPath('G:/Chamodi/LSDYNA3D/RP_results_all/CompB/20.0m03.5kg'), WindowsPath('G:/Chamodi/LSDYNA3D/RP_results_all/CompB/20.0m07.5kg'), WindowsPath('G:/Chamodi/LSDYNA3D/RP_results_all/CompB/20.0m11.5kg'), WindowsPath('G:/Chamodi/LSDYNA3D/RP_results_all/CompB/20.0m15.5kg'), WindowsPath('G:/Chamodi/LSDYNA3D/RP_results_all/CompB/20.0m19.5kg'), WindowsPath('G:/Chamodi/LSDYNA3D/RP_results_all/CompB/20.0m23.5kg'), WindowsPath('G:/Chamodi/LSDYNA3D/RP_results_all/CompB/20.0m25.0kg')]\n"
     ]
    }
   ],
   "source": [
    "# Get the current working directory\n",
    "current_dir = Path.cwd()\n",
    "\n",
    "# Access the desired directory relative to the current working directory\n",
    "input_dir1 = current_dir.parent.parent / 'LSDYNA3D' / 'RP_results_all' / 'CompB'\n",
    "\n",
    "#Access folders inside input folder\n",
    "input_dir2 =  [folder for folder in input_dir1.iterdir() if folder.is_dir()]\n",
    "print (\"2\",input_dir2)"
   ]
  },
  {
   "cell_type": "markdown",
   "id": "6be55513-d92d-4069-b7c3-1291dd6efadd",
   "metadata": {},
   "source": [
    "## Dataframe creation"
   ]
  },
  {
   "cell_type": "code",
   "execution_count": 45,
   "id": "28ac30c9-9a38-4e3e-bafb-0e9e680d176c",
   "metadata": {
    "ExecuteTime": {
     "end_time": "2024-03-26T01:34:10.483248300Z",
     "start_time": "2024-03-26T01:34:09.523277700Z"
    }
   },
   "outputs": [
    {
     "name": "stdout",
     "output_type": "stream",
     "text": [
      "    Explosive type  Explosive mass  Perpendicular standoff distance  \\\n",
      "0    Composition B             0.5                              1.0   \n",
      "1    Composition B             0.5                              1.0   \n",
      "2    Composition B             0.5                              1.0   \n",
      "3    Composition B             0.5                              1.0   \n",
      "4    Composition B             0.5                              1.0   \n",
      "..             ...             ...                              ...   \n",
      "435  Composition B            25.0                             20.0   \n",
      "436  Composition B            25.0                             20.0   \n",
      "437  Composition B            25.0                             20.0   \n",
      "438  Composition B            25.0                             20.0   \n",
      "439  Composition B            25.0                             20.0   \n",
      "\n",
      "    Incident angle  Peak reflected pressure  \n",
      "0                0                 1126.810  \n",
      "1               15                  681.880  \n",
      "2               30                  682.254  \n",
      "3               45                  564.027  \n",
      "4               60                  385.094  \n",
      "..             ...                      ...  \n",
      "435              0                  140.321  \n",
      "436             15                  140.224  \n",
      "437             30                  132.949  \n",
      "438             45                  124.603  \n",
      "439             60                  113.492  \n",
      "\n",
      "[440 rows x 5 columns]\n"
     ]
    }
   ],
   "source": [
    "# Define the empty dataframe\n",
    "df = pd.DataFrame(columns = ['Explosive type',\n",
    "                             'Explosive mass',\n",
    "                             'Perpendicular standoff distance',\n",
    "                             'Incident angle',\n",
    "                             'Peak reflected pressure'])\n",
    "\n",
    "# Access each folder inside input_dir2\n",
    "for folder in input_dir2:\n",
    "    #print (\"folder\", folder)\n",
    "    \n",
    "    # obtain explosive mass and perpendicular standoff distance\n",
    "    p_sd = float(folder.name.split(\"m\")[0])\n",
    "    e_mass = float(folder.name.split(\"m\")[1].split(\"kg\")[0])\n",
    "    #print (p_sd,e_mass)\n",
    "    \n",
    "    # Make a list of data file names, ignoring files named 'trhist'\n",
    "    files = [file for file in folder.rglob(\"*\") if not file.name == 'trhist']\n",
    "        \n",
    "    # Access each file in the list \n",
    "    for file in files:\n",
    "        #print (\"file\", file)\n",
    "        \n",
    "        #read the incident angle\n",
    "        if file.stem == '1':\n",
    "            i_angle = 0\n",
    "        elif file.stem == '2':\n",
    "            i_angle = 15\n",
    "        elif file.stem == '3':\n",
    "            i_angle = 30\n",
    "        elif file.stem == '4':\n",
    "            i_angle = 45\n",
    "        elif file.stem == '5':\n",
    "            i_angle = 60\n",
    "        else:\n",
    "            continue\n",
    "        \n",
    "        # Open the text file\n",
    "        with open(file, 'r') as filetxt:\n",
    "            \n",
    "            # Read the 4th row (index 3, 0-based indexing)\n",
    "            row4 = filetxt.readlines()[3]\n",
    "            filetxt.seek(0)\n",
    "            #print (row4)\n",
    "\n",
    "            # Check if \"Pressure\" is in the 4th row\n",
    "            if \"Pressure\" in row4:\n",
    "                # Read the 8th row (index 7, 0-based indexing)\n",
    "                row8 = filetxt.readlines()[7]\n",
    "                #print (row8)\n",
    "                \n",
    "                # Split the row into parts based on whitespace\n",
    "                parts = row8.split()\n",
    "                \n",
    "                # read peak reflected pressure\n",
    "                pr_pressure = float(parts[2])\n",
    "                #print (pr_pressure)\n",
    "                \n",
    "                # append rows to an empty DataFrame\n",
    "                new_row = {'Explosive type': ['Composition B'],\n",
    "                           'Explosive mass' :[e_mass],\n",
    "                           'Perpendicular standoff distance' : [p_sd],\n",
    "                           'Incident angle' : i_angle,\n",
    "                           'Peak reflected pressure' : [pr_pressure/1000]}\n",
    "                new_row_data = pd.DataFrame(new_row)\n",
    "                df = pd.concat([df, new_row_data], ignore_index = True)\n",
    "            else:\n",
    "                error_message = f'Error: {row4}, {p_sd}, {e_mass}'\n",
    "                raise ValueError(error_message)\n",
    "           \n",
    "print (df)     "
   ]
  },
  {
   "cell_type": "markdown",
   "source": [
    "## Create peak pressure excel file"
   ],
   "metadata": {
    "collapsed": false
   },
   "id": "4f5511731d68c276"
  },
  {
   "cell_type": "code",
   "execution_count": 46,
   "id": "a0eae7a7-e2cc-4972-afd4-ca00de2d4c65",
   "metadata": {
    "ExecuteTime": {
     "end_time": "2024-03-26T01:34:22.448210Z",
     "start_time": "2024-03-26T01:34:22.382480400Z"
    }
   },
   "outputs": [],
   "source": [
    "with pd.ExcelWriter('Peak_Reflected_Pressure_CompB.xlsx', engine = \"openpyxl\", mode='a', if_sheet_exists='replace') as writer:  \n",
    "    df.to_excel(writer, sheet_name = \"Sheet1\", index = False, header = True)"
   ]
  }
 ],
 "metadata": {
  "kernelspec": {
   "display_name": "Python 3 (ipykernel)",
   "language": "python",
   "name": "python3"
  },
  "language_info": {
   "codemirror_mode": {
    "name": "ipython",
    "version": 3
   },
   "file_extension": ".py",
   "mimetype": "text/x-python",
   "name": "python",
   "nbconvert_exporter": "python",
   "pygments_lexer": "ipython3",
   "version": "3.9.7"
  }
 },
 "nbformat": 4,
 "nbformat_minor": 5
}
