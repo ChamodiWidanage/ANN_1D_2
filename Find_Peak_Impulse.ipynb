{
 "cells": [
  {
   "cell_type": "markdown",
   "id": "bce06074-b5c2-4913-890f-cb599b203ed2",
   "metadata": {},
   "source": [
    "## Import libraries"
   ]
  },
  {
   "cell_type": "code",
   "execution_count": 1,
   "outputs": [],
   "source": [
    "from pathlib import Path\n",
    "import pandas as pd\n",
    "import math\n",
    "import openpyxl"
   ],
   "metadata": {
    "collapsed": false,
    "ExecuteTime": {
     "end_time": "2023-12-21T02:04:50.934600Z",
     "start_time": "2023-12-21T02:04:45.700779900Z"
    }
   },
   "id": "34feb292-f5a4-45b9-aa07-22571998d2e1"
  },
  {
   "cell_type": "markdown",
   "source": [
    "# Create peak pressure file - Attempt 1 (without peak index)"
   ],
   "metadata": {
    "collapsed": false
   },
   "id": "22d05affddf4eb66"
  },
  {
   "cell_type": "markdown",
   "id": "446d2850-b45e-4d5f-86dd-fa14200e168b",
   "metadata": {
    "tags": []
   },
   "source": [
    "## Access input folders"
   ]
  },
  {
   "cell_type": "code",
   "execution_count": 5,
   "id": "444c2bb8-1d9e-4aca-baec-9d85bd985ece",
   "metadata": {
    "ExecuteTime": {
     "end_time": "2023-12-21T02:23:56.891788100Z",
     "start_time": "2023-12-21T02:23:56.881067800Z"
    }
   },
   "outputs": [
    {
     "name": "stdout",
     "output_type": "stream",
     "text": [
      "1 11series_tracers_impulse\n",
      "2 [WindowsPath('11series_tracers_impulse/L1150')]\n"
     ]
    }
   ],
   "source": [
    "#Access input folder\n",
    "input_dir1 = Path (\"11series_tracers_impulse\")\n",
    "print (\"1\",input_dir1)\n",
    "\n",
    "#Access folders inside input folder\n",
    "input_dir2 =  [folder for folder in input_dir1.iterdir() if folder.is_dir()]\n",
    "print (\"2\",input_dir2)"
   ]
  },
  {
   "cell_type": "markdown",
   "id": "f639c56a-0011-486f-8150-c1bd12e30d00",
   "metadata": {
    "jp-MarkdownHeadingCollapsed": true,
    "tags": []
   },
   "source": [
    "## Create output files 1"
   ]
  },
  {
   "cell_type": "code",
   "execution_count": null,
   "id": "d4d6ba62-e4bd-4c60-bae7-0f7eebbe9bd8",
   "metadata": {},
   "outputs": [],
   "source": [
    "%%timeit -r1 -n1\n",
    "# define current work directory\n",
    "current_dir = Path.cwd()\n",
    "\n",
    "# access the template to be used to generate files\n",
    "excel_template = current_dir/ \"Template.xlsx\"\n",
    "\n",
    "# Access each folder inside input folder\n",
    "for folder in input_dir2:\n",
    "    print (\"folder\", folder)\n",
    "    \n",
    "    # Make a list of data file names\n",
    "    files = list(folder.rglob(\"*\"))\n",
    "    \n",
    "    # Make a set of file names\n",
    "    keys = set (file.stem for file in files)\n",
    "    \n",
    "    # Use xlwings library to create excel files\n",
    "    with xw.App (visible = False) as app:\n",
    "        \n",
    "        # for loop for keys\n",
    "        for key in keys:\n",
    "            \n",
    "            # Open template excel file\n",
    "            wb = app.books.open(excel_template)\n",
    "            \n",
    "            # for loop for files\n",
    "            for file in files:\n",
    "                if file.stem == key:\n",
    "                    print (\"file.stem = \", file.stem)\n",
    "                    print (\"key = \", key)\n",
    "                    df = pd.read_csv(file, delimiter=\"\\s+\", skiprows = 8, skipfooter = 1, header = None, names = [\"time\", \"pressure\"])\n",
    "                    wb.sheets[0].range(\"A1\").options(index=False).value = df\n",
    "            output_dir = current_dir/ \"Pressure_curves_excel\"\n",
    "            output_dir.mkdir(exist_ok = True)\n",
    "            output_dir1 = output_dir/ folder.stem\n",
    "            output_dir1.mkdir(exist_ok = True)\n",
    "            wb.save(output_dir1/f\"{key}.xlsx\")\n",
    "        #print (\"file\",folder.stem, file.stem)\n",
    "        #current_dir = Path.cwd()\n",
    "        #excel_template = current_dir/ \"Template.xlsx\"\n",
    "        "
   ]
  },
  {
   "cell_type": "markdown",
   "id": "6be55513-d92d-4069-b7c3-1291dd6efadd",
   "metadata": {},
   "source": [
    "## Create output files 2"
   ]
  },
  {
   "cell_type": "code",
   "execution_count": 7,
   "id": "28ac30c9-9a38-4e3e-bafb-0e9e680d176c",
   "metadata": {
    "ExecuteTime": {
     "end_time": "2023-12-21T02:24:14.850990800Z",
     "start_time": "2023-12-21T02:24:14.780354500Z"
    }
   },
   "outputs": [
    {
     "name": "stdout",
     "output_type": "stream",
     "text": [
      "Empty DataFrame\n",
      "Columns: [Explosive_type, Explosive_mass, Standoff_distance, Peak_Impulse]\n",
      "Index: []\n",
      "folder 11series_tracers_impulse\\L1150\n",
      "file 11series_tracers_impulse\\L1150\\40\n",
      "file 11series_tracers_impulse\\L1150\\I11\n",
      "file 11series_tracers_impulse\\L1150\\I13\n",
      "file 11series_tracers_impulse\\L1150\\I15\n",
      "file 11series_tracers_impulse\\L1150\\I17\n",
      "file 11series_tracers_impulse\\L1150\\I19\n",
      "file 11series_tracers_impulse\\L1150\\I2\n",
      "file 11series_tracers_impulse\\L1150\\I21\n",
      "file 11series_tracers_impulse\\L1150\\I23\n",
      "file 11series_tracers_impulse\\L1150\\I25\n",
      "file 11series_tracers_impulse\\L1150\\I27\n",
      "file 11series_tracers_impulse\\L1150\\I29\n",
      "file 11series_tracers_impulse\\L1150\\I3\n",
      "file 11series_tracers_impulse\\L1150\\I31\n",
      "file 11series_tracers_impulse\\L1150\\I33\n",
      "file 11series_tracers_impulse\\L1150\\I35\n",
      "file 11series_tracers_impulse\\L1150\\I37\n",
      "file 11series_tracers_impulse\\L1150\\I39\n",
      "file 11series_tracers_impulse\\L1150\\I5\n",
      "file 11series_tracers_impulse\\L1150\\I7\n",
      "file 11series_tracers_impulse\\L1150\\I9\n",
      "   Explosive_type  Explosive_mass  Standoff_distance  Peak_Impulse\n",
      "0             TNT            25.0                0.0     68.105057\n",
      "1             TNT            25.0                5.5    214.858032\n",
      "2             TNT            25.0                6.5    190.407288\n",
      "3             TNT            25.0                7.5    170.068207\n",
      "4             TNT            25.0                8.5    153.118622\n",
      "5             TNT            25.0                9.5    138.834137\n",
      "6             TNT            25.0                1.0    318.077881\n",
      "7             TNT            25.0               10.5    126.748680\n",
      "8             TNT            25.0               11.5    116.461174\n",
      "9             TNT            25.0               12.5    107.590935\n",
      "10            TNT            25.0               13.5     99.866570\n",
      "11            TNT            25.0               14.5     93.126045\n",
      "12            TNT            25.0                1.5    390.679291\n",
      "13            TNT            25.0               15.5     87.227463\n",
      "14            TNT            25.0               16.5     82.039314\n",
      "15            TNT            25.0               17.5     77.451378\n",
      "16            TNT            25.0               18.5     73.423645\n",
      "17            TNT            25.0               19.5     69.792236\n",
      "18            TNT            25.0                2.5    411.113403\n",
      "19            TNT            25.0                3.5    295.277344\n",
      "20            TNT            25.0                4.5    245.914001\n"
     ]
    }
   ],
   "source": [
    "df = pd.DataFrame(columns = ['Explosive_type', 'Explosive_mass', 'Standoff_distance', 'Peak_Impulse'])\n",
    "print (df)\n",
    "\n",
    "# Access each folder inside input folder\n",
    "for folder in input_dir2:\n",
    "    print (\"folder\", folder)\n",
    "    charge_mass = int(folder.stem[3:])/2\n",
    "    \n",
    "    # Make a list of data file names\n",
    "    files = list(folder.rglob(\"*\"))\n",
    "        \n",
    "    # Access each file \n",
    "    for file in files:\n",
    "        print (\"file\", file)\n",
    "        stand_dis = int(file.stem[1:])/2\n",
    "            \n",
    "        # Create a dataframe out of data files and use delimiters\n",
    "        df1 = pd.read_csv(file,\n",
    "                          delimiter=\"\\s+\",\n",
    "                          skiprows = 7,\n",
    "                          nrows= 1,\n",
    "                          engine = 'python',\n",
    "                          header = None)\n",
    "            \n",
    "        # append rows to an empty DataFrame\n",
    "        new_row = {'Explosive_type' : ['TNT'], 'Explosive_mass' : [charge_mass], 'Standoff_distance' : [stand_dis], 'Peak_Impulse' : [df1.iloc[0,2]]}\n",
    "        new_row_data = pd.DataFrame(new_row)\n",
    "        df = pd.concat([df, new_row_data], ignore_index = True)\n",
    "print (df)     "
   ]
  },
  {
   "cell_type": "markdown",
   "source": [
    "# Create peak pressure file - Attempt 2 (with peak index)"
   ],
   "metadata": {
    "collapsed": false
   },
   "id": "f32813fef8d1c64"
  },
  {
   "cell_type": "markdown",
   "source": [
    "## Access input folders 2"
   ],
   "metadata": {
    "collapsed": false
   },
   "id": "81f5787eddf8409a"
  },
  {
   "cell_type": "code",
   "execution_count": null,
   "outputs": [],
   "source": [
    "#Access input folder\n",
    "input_dir3 = Path (\"Pressure_curves_excel_with_MinMaxTime\")\n",
    "print (\"3\",input_dir3)\n",
    "\n",
    "#Access folders inside input folder\n",
    "input_dir4 =  [folder for folder in input_dir3.iterdir() if folder.is_dir()]\n",
    "print (\"4\",input_dir4)"
   ],
   "metadata": {
    "collapsed": false
   },
   "id": "111244729cfe82a1"
  },
  {
   "cell_type": "markdown",
   "source": [
    "## Create peak pressure dataframe"
   ],
   "metadata": {
    "collapsed": false
   },
   "id": "f401a6f1bbe0a184"
  },
  {
   "cell_type": "code",
   "execution_count": null,
   "outputs": [],
   "source": [
    "df1 = pd.DataFrame(columns = ['Charge_mass', 'Standoff_distance', 'Peak pressure', 'Peak time', 'Peak index'])\n",
    "# Access each folder inside input folder\n",
    "for folder in input_dir4:\n",
    "    print (\"folder\", folder)\n",
    "    charge_mass = int(folder.stem[4:])/2\n",
    "    \n",
    "    # Make a list of data file names\n",
    "    files = list(folder.rglob(\"*\"))\n",
    "        \n",
    "    # Access each file \n",
    "    for file in files:\n",
    "        wrkbk = openpyxl.load_workbook(file)\n",
    "        sh = wrkbk.active\n",
    "        stand_dis = math.ceil(int(file.stem[1:])/2)\n",
    "        peak_time = sh.cell(row = 2, column = 4)\n",
    "        print ('file', file, 'peak_time', peak_time.value)\n",
    "        \n",
    "        # iterate through excel and display data\n",
    "        for i in range(2, sh.max_row+1):\n",
    "            cell_time = sh.cell (row = i, column = 1)\n",
    "            #print (cell_time.value)\n",
    "            if round(cell_time.value, 10) >= peak_time.value:\n",
    "                print (\"cell_time\", cell_time.value)\n",
    "                peak_index = i\n",
    "                peak_pressure = sh.cell (row = i, column = 2)\n",
    "                print (\"peak_index\", i, 'peak_pressure', peak_pressure.value)\n",
    "                \n",
    "                # append rows to an empty DataFrame\n",
    "                new_row = {'Charge_mass' : [charge_mass],\n",
    "                           'Standoff_distance' : [stand_dis],\n",
    "                           'Peak pressure' : [peak_pressure.value],\n",
    "                           'Peak time' : [peak_time.value],\n",
    "                           'Peak index' : [i]}\n",
    "                new_row_data = pd.DataFrame(new_row)\n",
    "                df1 = pd.concat([df1, new_row_data], ignore_index = True)\n",
    "                break     "
   ],
   "metadata": {
    "collapsed": false
   },
   "id": "83385fa08a437827"
  },
  {
   "cell_type": "code",
   "execution_count": null,
   "outputs": [],
   "source": [
    "print (df1)"
   ],
   "metadata": {
    "collapsed": false
   },
   "id": "21c8493bae1d97fd"
  },
  {
   "cell_type": "markdown",
   "source": [
    "## Create peak pressure excel file"
   ],
   "metadata": {
    "collapsed": false
   },
   "id": "4f5511731d68c276"
  },
  {
   "cell_type": "code",
   "execution_count": 9,
   "id": "a0eae7a7-e2cc-4972-afd4-ca00de2d4c65",
   "metadata": {
    "ExecuteTime": {
     "end_time": "2023-12-21T02:24:57.544283700Z",
     "start_time": "2023-12-21T02:24:57.506062100Z"
    }
   },
   "outputs": [],
   "source": [
    "with pd.ExcelWriter('Peak_Impulse_TNT.xlsx', engine = \"openpyxl\", mode='a', if_sheet_exists='replace') as writer:  \n",
    "    df.to_excel(writer, sheet_name = \"Sheet1\", index = False, header = True)"
   ]
  }
 ],
 "metadata": {
  "kernelspec": {
   "display_name": "Python 3 (ipykernel)",
   "language": "python",
   "name": "python3"
  },
  "language_info": {
   "codemirror_mode": {
    "name": "ipython",
    "version": 3
   },
   "file_extension": ".py",
   "mimetype": "text/x-python",
   "name": "python",
   "nbconvert_exporter": "python",
   "pygments_lexer": "ipython3",
   "version": "3.9.7"
  }
 },
 "nbformat": 4,
 "nbformat_minor": 5
}
